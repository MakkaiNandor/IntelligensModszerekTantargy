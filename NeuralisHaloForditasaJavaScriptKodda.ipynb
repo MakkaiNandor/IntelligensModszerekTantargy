{
  "nbformat": 4,
  "nbformat_minor": 0,
  "metadata": {
    "colab": {
      "name": "NeuralisHaloForditasaJavaScriptKodda.ipynb",
      "provenance": [],
      "include_colab_link": true
    },
    "kernelspec": {
      "name": "python3",
      "display_name": "Python 3"
    },
    "language_info": {
      "name": "python"
    }
  },
  "cells": [
    {
      "cell_type": "markdown",
      "metadata": {
        "id": "view-in-github",
        "colab_type": "text"
      },
      "source": [
        "<a href=\"https://colab.research.google.com/github/MakkaiNandor/IntelligensModszerekTantargy/blob/main/NeuralisHaloForditasaJavaScriptKodda.ipynb\" target=\"_parent\"><img src=\"https://colab.research.google.com/assets/colab-badge.svg\" alt=\"Open In Colab\"/></a>"
      ]
    },
    {
      "cell_type": "code",
      "metadata": {
        "id": "fBrZX-uEWlH1"
      },
      "source": [
        "import pandas as pd\n",
        "import numpy as np\n",
        "import torch\n",
        "import torch.nn as nn\n",
        "import torch.optim as optim"
      ],
      "execution_count": 1,
      "outputs": []
    },
    {
      "cell_type": "markdown",
      "metadata": {
        "id": "8e_q6-FmanD3"
      },
      "source": [
        "Adatok betöltése és kiválasztása: az egyszerűség kedvéért mindössze három oszlopot választunk ki."
      ]
    },
    {
      "cell_type": "code",
      "metadata": {
        "id": "uqewTZfsXgr6"
      },
      "source": [
        "data = pd.read_csv('http://www.biointelligence.hu/mi/fuel_data.txt', header=0, sep='\\t')\n",
        "\n",
        "selected_data = pd.DataFrame()\n",
        "selected_data['starttemp'] = data['starttemp']\n",
        "selected_data['endtemp'] = data['endtemp']\n",
        "selected_data['speed'] = data['speed']\n",
        "train_data = np.array(selected_data)\n",
        "train_labels = np.array([ [y] for y in data['avg.cons.']])"
      ],
      "execution_count": 2,
      "outputs": []
    },
    {
      "cell_type": "markdown",
      "metadata": {
        "id": "TNCrg6daag-1"
      },
      "source": [
        "A modell definiálása és tanítása"
      ]
    },
    {
      "cell_type": "code",
      "metadata": {
        "colab": {
          "base_uri": "https://localhost:8080/"
        },
        "id": "xmYlYmMUXwjX",
        "outputId": "c923fc6d-784e-48dc-f9ee-1282932bd1b0"
      },
      "source": [
        "class ConsumptionNet(nn.Module):\n",
        "    def __init__(self):\n",
        "        super(ConsumptionNet, self).__init__()\n",
        "        self.hidden = nn.Linear(3, 10)\n",
        "        self.out = nn.Linear(10, 1) \n",
        "\n",
        "    def forward(self, x):\n",
        "        x = torch.relu(self.hidden(x))\n",
        "        x = self.out(x)\n",
        "        return x\n",
        "\n",
        "train_dataset = torch.utils.data.TensorDataset(\n",
        "    torch.Tensor(train_data), torch.Tensor(train_labels) )\n",
        "trainloader = torch.utils.data.DataLoader(\n",
        "    train_dataset, shuffle=True, batch_size=1)\n",
        "\n",
        "net = ConsumptionNet()\n",
        "criterion = nn.MSELoss()\n",
        "optimizer = optim.SGD(net.parameters(), lr=1e-5)\n",
        "\n",
        "running_loss = 0.0\n",
        "running_n = 0\n",
        "\n",
        "for epoch in range(1000):  \n",
        "  for inputs, targets in trainloader:\n",
        "    optimizer.zero_grad()\n",
        "    \n",
        "    outputs = net(inputs)\n",
        "\n",
        "    loss = criterion(outputs, targets)\n",
        "    loss.backward()\n",
        "    optimizer.step()\n",
        "\n",
        "    running_loss += loss.item()\n",
        "    running_n = running_n + 1\n",
        "\n",
        "  if epoch % 100 == 0:\n",
        "    print('epoch %d, loss: %.3f' % (epoch, running_loss / running_n))\n",
        "  running_loss = 0.0\n",
        "  running_n = 0   "
      ],
      "execution_count": 3,
      "outputs": [
        {
          "output_type": "stream",
          "name": "stdout",
          "text": [
            "epoch 0, loss: 15.028\n",
            "epoch 100, loss: 2.992\n",
            "epoch 200, loss: 2.484\n",
            "epoch 300, loss: 1.788\n",
            "epoch 400, loss: 1.160\n",
            "epoch 500, loss: 0.741\n",
            "epoch 600, loss: 0.550\n",
            "epoch 700, loss: 0.473\n",
            "epoch 800, loss: 0.440\n",
            "epoch 900, loss: 0.433\n"
          ]
        }
      ]
    },
    {
      "cell_type": "code",
      "metadata": {
        "colab": {
          "base_uri": "https://localhost:8080/"
        },
        "id": "8yrUiHJjYPUo",
        "outputId": "3d32554f-2bd1-49aa-9037-63ab8135715b"
      },
      "source": [
        "for p in net.parameters():\n",
        "  print(p)"
      ],
      "execution_count": 4,
      "outputs": [
        {
          "output_type": "stream",
          "name": "stdout",
          "text": [
            "Parameter containing:\n",
            "tensor([[ 0.0586, -0.1018,  0.4327],\n",
            "        [-0.3288,  0.3255, -0.4252],\n",
            "        [-0.3280,  0.1263, -0.3150],\n",
            "        [ 0.2268,  0.5603,  0.4575],\n",
            "        [-0.5676, -0.0334, -0.1900],\n",
            "        [-0.0802,  0.4612,  0.0396],\n",
            "        [-0.0978,  0.1365,  0.2340],\n",
            "        [-0.3384, -0.2432, -0.0587],\n",
            "        [ 0.9318,  0.2085, -0.7663],\n",
            "        [-0.0285, -0.4831,  0.1085]], requires_grad=True)\n",
            "Parameter containing:\n",
            "tensor([ 0.3481,  0.4639, -0.1518, -0.4470, -0.0642,  0.5055,  0.3584,  0.3559,\n",
            "        -0.0065, -0.4696], requires_grad=True)\n",
            "Parameter containing:\n",
            "tensor([[-0.0670, -0.0885,  0.1640,  0.1604,  0.1726, -0.1883,  0.0881,  0.2505,\n",
            "          1.0888, -0.2527]], requires_grad=True)\n",
            "Parameter containing:\n",
            "tensor([0.2440], requires_grad=True)\n"
          ]
        }
      ]
    },
    {
      "cell_type": "markdown",
      "metadata": {
        "id": "umMVpHMEeZB5"
      },
      "source": [
        "Tanulmányozzuk a következő kódot és mentsük le egy egyszerű szöveg (\"plain text\") formátumú fájlba javascript_pelda.html néven. Nyissuk meg a fájlt egy webböngészőben!\n",
        "\n",
        "    <html>\n",
        "    <head>\n",
        "    <title>\n",
        "      Neurális hálózat fordítása JavaScript kóddá\n",
        "    </title>\n",
        "    </head>\n",
        "\n",
        "    <script type=\"text/javascript\">  \n",
        "      function estimate_cons() {\n",
        "        /* itt fogjuk megvalósítani a neurális háló által végzett számításokat */\n",
        "        window.alert(\"Még nincs implementálva\")\n",
        "      }\n",
        "    </script>  \n",
        "\n",
        "    <body>\n",
        "    <h1>Fogyasztás becslése neurális hálóval<h1>\n",
        "\n",
        "    <form name=\"input_data\">\n",
        "    <table>\n",
        "    <tr>\n",
        "      <td>Hőmérsékelt induláskor:</td>\n",
        "      <td><input type=\"text\" name=\"temp1\" size=3></td>\n",
        "    </tr>\n",
        "    <tr>\n",
        "      <td>Hőmérsékelt érkezéskor:</td>\n",
        "      <td><input type=\"text\" name=\"temp2\" size=3></td>\n",
        "    </tr>\n",
        "    <tr>\n",
        "      <td>Átlagsebesség:</td>\n",
        "      <td><input type=\"text\" name=\"speed\" size=3></td>\n",
        "    </tr>\n",
        "    <tr>\n",
        "      <td></td>  \n",
        "      <td><input type=\"button\" onclick=\"estimate_cons()\" value=\"Számold ki!\"></td>\n",
        "    </tr>\n",
        "    </table>\n",
        "    </form>\n",
        "    </body>\n",
        "    </html>"
      ]
    },
    {
      "cell_type": "markdown",
      "metadata": {
        "id": "DicC3rJngylt"
      },
      "source": [
        "A neurális háló paramétereinek ismeretében akár \"kézzel\" is megírhatjuk azt a kódot, amely ugyanazon számításokat elvégzi, amit a neurális háló is végez. \n",
        "\n",
        "Ha például az alábbi paraméterértékek adódtak a tanítás során:\n",
        "\n",
        "    Parameter containing:\n",
        "    tensor([[ 0.2509, -0.2061,  0.1073],\n",
        "            ... ], requires_grad=True)\n",
        "    Parameter containing:\n",
        "    tensor([-0.2061,  ...], requires_grad=True)\n",
        "    ...\n",
        "\n",
        "akkor ezek alapján a rejtett réteg első unitjának aktiválása az alábbi JavaScript kóddal számolható:\n",
        "    \n",
        "    h1 = 0.2509*input1 - 0.2061*input2 - 0.1073*input3 - 0.2061;\n",
        "    if (h1 < 0) { h1 = 0; }   /* ReLU */\n",
        "\n",
        "\n",
        "Hasonlóképpen megírhatjuk a kimeneti réteg számításait elvégző kódot is. A kimeneti réteg paraméterei:\n",
        "\n",
        "    Parameter containing:\n",
        "    tensor([[-0.1407, -0.0554,  0.1907,  0.1611,  0.6042,  0.1442, -0.0315,  0.3453,\n",
        "              0.6535, -0.2172]], requires_grad=True)\n",
        "    Parameter containing:\n",
        "    tensor([0.3992], requires_grad=True)\n",
        "\n",
        "Ezek alapján a kimenetet megvalósító kód:\n",
        "\n",
        "        out = -0.1407*h1 - 0.0554*h2 + 0.1907*h3 + 0.1611*h4 + 0.6042*h5 + 0.1442*h6 - 0.0315*h7 + 0.3453*h8 + 0.6535*h9 - 0.2172*h10 + 0.3992;\n",
        "\n",
        "\n",
        "Realisztikus méretű neurális hálók célplattformra történő fordítása tipikusan automatizált módon történik, például írunk egy függvényt Python-ban, amely bementként megkapja a tanított neurális háló paramétereit, és visszaadja a számításokat elvégző JavaScript kódot."
      ]
    },
    {
      "cell_type": "markdown",
      "metadata": {
        "id": "8RlLFFhItexg"
      },
      "source": [
        "Összességében az alábbi HTML/JavaScript kód adódik:\n",
        "\n",
        "    <html>\n",
        "    <head>\n",
        "    <title>\n",
        "      Neurális hálózat fordítása JavaScript kóddá\n",
        "    </title>\n",
        "    </head>\n",
        "\n",
        "    <script type=\"text/javascript\">  \n",
        "      function estimate_cons() {\n",
        "        input1 = window.document.input_data.temp1.value;\n",
        "        input2 = window.document.input_data.temp2.value;\n",
        "        input3 = window.document.input_data.speed.value;\n",
        "\n",
        "        h1  =  0.2509*input1 - 0.2061*input2 - 0.1073*input3 - 0.2061;\n",
        "        h2  = -0.2059*input1 - 0.2937*input2 - 0.1009*input3 + 0.4432;\n",
        "        h3  =  0.1150*input1 + 0.2625*input2 - 0.3610*input3 + 0.1330;\n",
        "        h4  =  0.6465*input1 - 0.2293*input2 + 0.4714*input3 - 0.2794;\n",
        "        h5  =  0.3817*input1 + 0.4118*input2 - 0.5667*input3 - 0.1213;\n",
        "        h6  = -0.3119*input1 - 0.4398*input2 + 0.0307*input3 - 0.1389;\n",
        "        h7  =  0.0666*input1 + 0.1040*input2 + 0.1719*input3 - 0.5187;\n",
        "        h8  =  0.3125*input1 + 0.1885*input2 - 0.3690*input3 + 0.2188;\n",
        "        h9  =  0.1097*input1 + 0.7307*input2 - 0.4844*input3 - 0.4756;\n",
        "        h10 = -0.3408*input1 - 0.2709*input2 + 0.0361*input3 - 0.1425;\n",
        "        \n",
        "        if (h1 < 0) { h1 = 0; }\n",
        "        if (h2 < 0) { h2 = 0; }\n",
        "        if (h3 < 0) { h3 = 0; }\n",
        "        if (h4 < 0) { h4 = 0; }\n",
        "        if (h5 < 0) { h5 = 0; }\n",
        "        if (h6 < 0) { h6 = 0; }\n",
        "        if (h7 < 0) { h7 = 0; }\n",
        "        if (h8 < 0) { h8 = 0; }\n",
        "        if (h9 < 0) { h9 = 0; }\n",
        "        if (h10 < 0) { h10 = 0; }\n",
        "\n",
        "        out = -0.1407*h1 - 0.0554*h2 + 0.1907*h3 + 0.1611*h4 + 0.6042*h5 + 0.1442*h6 - 0.0315*h7 + 0.3453*h8 + 0.6535*h9 - 0.2172*h10 + 0.3992;\n",
        "\n",
        "        window.alert(\"Becsült fogyasztás: \"+out)\n",
        "      }\n",
        "    </script>  \n",
        "\n",
        "    <body>\n",
        "    <h1>Fogyasztás becslése neurális hálóval<h1>\n",
        "\n",
        "    <form name=\"input_data\">\n",
        "    <table>\n",
        "    <tr>\n",
        "      <td>Hőmérsékelt induláskor:</td>\n",
        "      <td><input type=\"text\" name=\"temp1\" size=3> fok</td>\n",
        "    </tr>\n",
        "    <tr>\n",
        "      <td>Hőmérsékelt érkezéskor:</td>\n",
        "      <td><input type=\"text\" name=\"temp2\" size=3> fok</td>\n",
        "    </tr>\n",
        "    <tr>\n",
        "      <td>Átlagsebesség:</td>\n",
        "      <td><input type=\"text\" name=\"speed\" size=3> km/h</td>\n",
        "    </tr>\n",
        "    <tr>\n",
        "      <td></td>  \n",
        "      <td><input type=\"button\" onclick=\"estimate_cons()\" value=\"Számold ki!\"></td>\n",
        "    </tr>\n",
        "    </table>\n",
        "    </form>\n",
        "    </body>\n",
        "    </html>"
      ]
    },
    {
      "cell_type": "code",
      "metadata": {
        "id": "kyP701wEaxTo"
      },
      "source": [
        ""
      ],
      "execution_count": null,
      "outputs": []
    }
  ]
}